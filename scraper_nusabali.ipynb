{
  "nbformat": 4,
  "nbformat_minor": 0,
  "metadata": {
    "colab": {
      "provenance": [],
      "mount_file_id": "1fI4ymq-r4Cz7hHcd5TQo5w9TbkYCs4jo",
      "authorship_tag": "ABX9TyMKyqZYB1OrVzDVBrqWVY3A",
      "include_colab_link": true
    },
    "kernelspec": {
      "name": "python3",
      "display_name": "Python 3"
    },
    "language_info": {
      "name": "python"
    }
  },
  "cells": [
    {
      "cell_type": "markdown",
      "metadata": {
        "id": "view-in-github",
        "colab_type": "text"
      },
      "source": [
        "<a href=\"https://colab.research.google.com/github/Noertri/scraper-nusabali/blob/main/scraper_nusabali.ipynb\" target=\"_parent\"><img src=\"https://colab.research.google.com/assets/colab-badge.svg\" alt=\"Open In Colab\"/></a>"
      ]
    },
    {
      "cell_type": "markdown",
      "source": [
        "# Menginstall package\n",
        "\n",
        "1. upload file requirements.txt\n",
        "2. jalankan sel dibawah ini"
      ],
      "metadata": {
        "id": "JgrOEsm5Dpb5"
      }
    },
    {
      "cell_type": "code",
      "source": [
        "!pip install --upgrade -r requirements.txt"
      ],
      "metadata": {
        "id": "HC5UJfezHGke"
      },
      "execution_count": null,
      "outputs": []
    },
    {
      "cell_type": "markdown",
      "source": [
        "# Program"
      ],
      "metadata": {
        "id": "IZ_9Tvg3EYRq"
      }
    },
    {
      "cell_type": "markdown",
      "source": [
        "1. Import package yang diperlukan dan membuat fungsi"
      ],
      "metadata": {
        "id": "mIH4VYqjUxUt"
      }
    },
    {
      "cell_type": "code",
      "source": [
        "import httpx\n",
        "from bs4 import BeautifulSoup\n",
        "from dataclasses import dataclass, asdict\n",
        "import pandas as pd\n",
        "from urllib import parse\n",
        "import dateparser\n",
        "from datetime import datetime\n",
        "\n",
        "\n",
        "client = httpx.Client(follow_redirects=True, timeout=5.)\n",
        "main_url = \"https://www.nusabali.com\"\n",
        "article_base_url = \"https://www.nusabali.com/berita\"\n",
        "results = []\n",
        "\n",
        "\n",
        "@dataclass\n",
        "class Result:\n",
        "    tanggal: str = \"\"\n",
        "    judul: str = \"\"\n",
        "    url: str = \"\"\n",
        "\n",
        "\n",
        "@dataclass(init=False, repr=True)\n",
        "class JsonToResult(Result):\n",
        "\n",
        "    def __init__(self, article_id, slug, published_at, article_title, **kwargs):\n",
        "        self.tanggal = datetime.strptime(published_at, \"%Y-%m-%d %H:%M:%S\").strftime(\"%d %B %Y %H:%M:%S\")\n",
        "        self.judul = article_title\n",
        "        self.url = f\"{article_base_url}/{article_id}/{slug}\"\n",
        "        self._kwargs = kwargs\n",
        "\n",
        "\n",
        "def request_main_page(keyword):\n",
        "    page_url = parse.urljoin(main_url, \"search\")\n",
        "\n",
        "    params = {\n",
        "        'keyword': f'{keyword}',\n",
        "    }\n",
        "\n",
        "    query_str = parse.urlencode(params)\n",
        "\n",
        "    referer_url = parse.urlunsplit((\"https\", \"www.nusabali.com\", \"search\", query_str, \"\"))\n",
        "\n",
        "    headers = {\n",
        "        'authority': 'www.nusabali.com',\n",
        "        'accept': 'text/html,application/xhtml+xml,application/xml;q=0.9,image/avif,image/webp,image/apng,*/*;q=0.8,application/signed-exchange;v=b3;q=0.7',\n",
        "        'accept-language': 'id-ID,id;q=0.9,en-US;q=0.8,en;q=0.7,ms;q=0.6,ja;q=0.5',\n",
        "        'dnt': '1',\n",
        "        'referer': f'{referer_url}',\n",
        "        'sec-ch-ua': '\"Not/A)Brand\";v=\"99\", \"Google Chrome\";v=\"115\", \"Chromium\";v=\"115\"',\n",
        "        'sec-ch-ua-mobile': '?0',\n",
        "        'sec-ch-ua-platform': '\"Windows\"',\n",
        "        'sec-fetch-dest': 'document',\n",
        "        'sec-fetch-mode': 'navigate',\n",
        "        'sec-fetch-site': 'same-origin',\n",
        "        'sec-fetch-user': '?1',\n",
        "        'upgrade-insecure-requests': '1',\n",
        "        'user-agent': 'Mozilla/5.0 (Windows NT 10.0; Win64; x64) AppleWebKit/537.36 (KHTML, like Gecko) Chrome/115.0.0.0 Safari/537.36',\n",
        "    }\n",
        "\n",
        "\n",
        "    response = client.get(page_url, params=params, headers=headers)\n",
        "\n",
        "    if response.status_code < 400:\n",
        "        return response\n",
        "\n",
        "\n",
        "def request_api(keyword, page):\n",
        "    params0 = {\n",
        "        'keyword': f'{keyword}',\n",
        "    }\n",
        "\n",
        "    query_str = parse.urlencode(params0)\n",
        "\n",
        "    referer_url = parse.urlunsplit((\"https\", \"www.nusabali.com\", \"search\", query_str, \"\"))\n",
        "\n",
        "    headers = {\n",
        "        'authority': 'www.nusabali.com',\n",
        "        'accept': '*/*',\n",
        "        'accept-language': 'id-ID,id;q=0.9,en-US;q=0.8,en;q=0.7,ms;q=0.6,ja;q=0.5',\n",
        "        'dnt': '1',\n",
        "        'referer': f'{referer_url}',\n",
        "        'sec-ch-ua': '\"Not/A)Brand\";v=\"99\", \"Google Chrome\";v=\"115\", \"Chromium\";v=\"115\"',\n",
        "        'sec-ch-ua-mobile': '?0',\n",
        "        'sec-ch-ua-platform': '\"Windows\"',\n",
        "        'sec-fetch-dest': 'empty',\n",
        "        'sec-fetch-mode': 'cors',\n",
        "        'sec-fetch-site': 'same-origin',\n",
        "        'user-agent': 'Mozilla/5.0 (Windows NT 10.0; Win64; x64) AppleWebKit/537.36 (KHTML, like Gecko) Chrome/115.0.0.0 Safari/537.36',\n",
        "        'x-requested-with': 'XMLHttpRequest',\n",
        "    }\n",
        "\n",
        "    params = {\n",
        "        'search': 'true',\n",
        "        'page': f'{page}',\n",
        "        'keyword': f'{keyword}',\n",
        "    }\n",
        "\n",
        "    response = client.get('https://www.nusabali.com/api/berita/list', params=params, headers=headers)\n",
        "\n",
        "    if response.status_code < 400:\n",
        "        print(f\"Berhasil!!! Keyword: {keyword} Halaman: {page}\")\n",
        "        return response\n"
      ],
      "metadata": {
        "id": "N5b3E_DiEXYb"
      },
      "execution_count": 40,
      "outputs": []
    },
    {
      "cell_type": "markdown",
      "source": [
        "2. Topik/kata kunci artikel"
      ],
      "metadata": {
        "id": "rW3U_P4PBgEN"
      }
    },
    {
      "cell_type": "code",
      "source": [
        "keyword = \"kependudukan\""
      ],
      "metadata": {
        "id": "iRKc0A1lBbNv"
      },
      "execution_count": 42,
      "outputs": []
    },
    {
      "cell_type": "markdown",
      "source": [
        "3. scape halaman awal"
      ],
      "metadata": {
        "id": "o-twwngtUg9I"
      }
    },
    {
      "cell_type": "code",
      "source": [
        "# scrape halaman awal\n",
        "print(\"Mengambil artikel di halaman awal...\")\n",
        "\n",
        "r = request_main_page(keyword)\n",
        "\n",
        "print(f\"Berhasil!!! Keyword: {keyword}\")\n",
        "\n",
        "soup = BeautifulSoup(r.text, \"html.parser\")\n",
        "article_list = soup.select(\"div#article-list>div.row\")\n",
        "if article_list:\n",
        "    for article in article_list:\n",
        "        h5_tag = article.select_one(\"div.col-xs-8.col-md-8 h5\")\n",
        "        span_tag = article.select_one(\"div.col-xs-12.entry-metas>span>span\")\n",
        "        article_title = h5_tag.get_text(strip=True, separator=\" \") if h5_tag is not None else \"\"\n",
        "        article_url = a_tag.get(\"href\", \"\") if (a_tag := h5_tag.select_one(\"a\")) is not None else \"\"\n",
        "        article_date = span_tag.get_text(strip=True, separator=\" \") if span_tag is not None else \"\"\n",
        "        article_date = datetime.strptime(article_date, \"%d %b %Y %H:%M\")\n",
        "\n",
        "        result = Result(tanggal=article_date.strftime(\"%d %B %Y %H:%M:%S\"), judul=article_title, url=article_url)\n",
        "        results.append(asdict(result))"
      ],
      "metadata": {
        "id": "w6qoqyg1SCg3",
        "colab": {
          "base_uri": "https://localhost:8080/"
        },
        "outputId": "55c8f2f6-87fd-46e9-d592-116f3804e5a9"
      },
      "execution_count": 43,
      "outputs": [
        {
          "output_type": "stream",
          "name": "stdout",
          "text": [
            "Mengambil artikel di halaman awal...\n",
            "Berhasil!!! Keyword: kependudukan\n"
          ]
        }
      ]
    },
    {
      "cell_type": "markdown",
      "source": [
        "4. scrape halaman selanjutnya (opsional)"
      ],
      "metadata": {
        "id": "UaTqTN1A-RLc"
      }
    },
    {
      "cell_type": "code",
      "source": [
        "import time\n",
        "\n",
        "# num_pages: jumlah halaman yang mau discrape (1 page = 20 artikel)\n",
        "\n",
        "num_pages = 5\n",
        "\n",
        "print(\"Mengambil artikel selanjutnya...\")\n",
        "\n",
        "for i in range(1, num_pages+1):\n",
        "    r = request_api(keyword, i)\n",
        "    time.sleep(3)\n",
        "    data = r.json()\n",
        "\n",
        "    if data:\n",
        "        for item in data.get(\"data\", []):\n",
        "            result2 = JsonToResult(**item)\n",
        "            results.append(asdict(result2))"
      ],
      "metadata": {
        "colab": {
          "base_uri": "https://localhost:8080/"
        },
        "id": "RC2AG5aX9uvo",
        "outputId": "7fbbdb9e-637b-4f93-8530-b05a80004b91"
      },
      "execution_count": 44,
      "outputs": [
        {
          "output_type": "stream",
          "name": "stdout",
          "text": [
            "Mengambil artikel selanjutnya...\n",
            "Berhasil!!! Keyword: kependudukan Halaman: 1\n",
            "Berhasil!!! Keyword: kependudukan Halaman: 2\n",
            "Berhasil!!! Keyword: kependudukan Halaman: 3\n",
            "Berhasil!!! Keyword: kependudukan Halaman: 4\n",
            "Berhasil!!! Keyword: kependudukan Halaman: 5\n"
          ]
        }
      ]
    },
    {
      "cell_type": "markdown",
      "source": [
        "5. Menyimpan hasil ke file excel"
      ],
      "metadata": {
        "id": "6P-VKmR7PtQ1"
      }
    },
    {
      "cell_type": "code",
      "source": [
        "def save_to_excel(prefix):\n",
        "    filename = \"{0}_{1}.xlsx\".format(prefix, datetime.now().strftime(\"%d%m%Y%H%M%S\"))\n",
        "\n",
        "    df = pd.DataFrame(results)\n",
        "\n",
        "    print(df.to_string())\n",
        "\n",
        "    print(f\"Menyimpan ke file {filename}...\")\n",
        "\n",
        "    try:\n",
        "        df.to_excel(filename, index=False)\n",
        "        print(\"Berhasil!!!\")\n",
        "    except Exception as err:\n",
        "        print(err)\n",
        "\n",
        "save_to_excel(\"artikel_kependudukan\")"
      ],
      "metadata": {
        "colab": {
          "base_uri": "https://localhost:8080/"
        },
        "id": "QaSrQhtqKYA_",
        "outputId": "a64b4b03-2b43-4104-8be2-dc892b6310d5"
      },
      "execution_count": 45,
      "outputs": [
        {
          "output_type": "stream",
          "name": "stdout",
          "text": [
            "                    tanggal                                                                                             judul                                                                                                                                     url\n",
            "0     28 July 2023 15:26:00                                                           Tiga Terdakwa KTP Aspal Divonis Berbeda                                                          https://www.nusabali.com/berita/147119/tiga-terdakwa-ktp-aspal-divonis-berbeda\n",
            "1     27 July 2023 09:05:00                                                             Bupati Lantik Dua Pejabat Disdukcapil                                                            https://www.nusabali.com/berita/146980/bupati-lantik-dua-pejabat-disdukcapil\n",
            "2     26 July 2023 15:15:00                                                          Komisi II DPR RI Dorong Program One Card                                                         https://www.nusabali.com/berita/146964/komisi-ii-dpr-ri-dorong-program-one-card\n",
            "3     24 July 2023 10:05:00                                      Disdukcapil Ingatkan, Menikahi Krama Hindu Wajib Sudi Wadani                                      https://www.nusabali.com/berita/146746/disdukcapil-ingatkan-menikahi-krama-hindu-wajib-sudi-wadani\n",
            "4     22 July 2023 11:03:00                                                        Zghaib Dituntut 3 Tahun, Kryinin 2,5 Tahun                                                         https://www.nusabali.com/berita/146643/zghaib-dituntut-3-tahun-kryinin-25-tahun\n",
            "5     22 July 2023 11:02:00                                        Kota Denpasar Sabet Juara di 8 Kategori pada Harganas 2023                                       https://www.nusabali.com/berita/146663/kota-denpasar-sabet-juara-di-8-kategori-pada-harganas-2023\n",
            "6     22 July 2023 10:14:00                                                             Satpol PP Klungkung Jaring 36 Duktang                                                            https://www.nusabali.com/berita/146613/satpol-pp-klungkung-jaring-36-duktang\n",
            "7     22 July 2023 07:39:00                                                     Kuota 850 Beasiswa Diperebutkan 990 Mahasiswa                                                    https://www.nusabali.com/berita/146619/kuota-850-beasiswa-diperebutkan-990-mahasiswa\n",
            "8     22 July 2023 07:11:00                                                       Pegawai BKKBN Bali Meninggal di Ruang Kerja                                                      https://www.nusabali.com/berita/146609/pegawai-bkkbn-bali-meninggal-di-ruang-kerja\n",
            "9     21 July 2023 21:41:00                            KKN PPM PNB 2023, Support Digitalisasi di Desa Wisata Bongkasa Pertiwi                            https://www.nusabali.com/berita/146604/kkn-ppm-pnb-2023-support-digitalisasi-di-desa-wisata-bongkasa-pertiwi\n",
            "10    21 July 2023 20:15:00                                                      Linmas Diminta Tak Sembarangan Sidak Duktang                                                     https://www.nusabali.com/berita/146600/linmas-diminta-tak-sembarangan-sidak-duktang\n",
            "11    21 July 2023 07:27:00  Puncak Peringatan Harganas ke-30 Provinsi Bali, Tabanan Terima 2 Penghargaan Nasional dari BKKBN  https://www.nusabali.com/berita/146537/puncak-peringatan-harganas-ke-30-provinsi-bali-tabanan-terima-2-penghargaan-nasional-dari-bkkbn\n",
            "12    18 July 2023 08:04:00                                                           8.291 Wajib KTP Belum Lakukan Perekaman                                                           https://www.nusabali.com/berita/146384/8291-wajib-ktp-belum-lakukan-perekaman\n",
            "13    15 July 2023 15:14:00                               Pemilih Perempuan Mendominasi, Generasi Milenial Tembus 26,4 Persen                                https://www.nusabali.com/berita/146212/pemilih-perempuan-mendominasi-generasi-milenial-tembus-264-persen\n",
            "14    14 July 2023 11:37:00                                                        Kemenkeu Sebut Potensi Kehilangan Rp 650 M                                                       https://www.nusabali.com/berita/146096/kemenkeu-sebut-potensi-kehilangan-rp-650-m\n",
            "15    07 July 2023 13:45:00                                   Puri Kauhan Ubud Beri Penghargaan kepada Perintis Kalender Bali                                  https://www.nusabali.com/berita/145523/puri-kauhan-ubud-beri-penghargaan-kepada-perintis-kalender-bali\n",
            "16    07 July 2023 12:02:00                                                          Dewan Inginkan Pemerintah Punya Big Data                                                         https://www.nusabali.com/berita/145539/dewan-inginkan-pemerintah-punya-big-data\n",
            "17    06 July 2023 13:12:00                                          Cetak KTP Tepat Saat Ultah 17 Tahun, Dapat Hadiah Coklat                                          https://www.nusabali.com/berita/145457/cetak-ktp-tepat-saat-ultah-17-tahun-dapat-hadiah-coklat\n",
            "18    29 June 2023 08:35:00                                               Ubah Nama, Bacaleg dari Gianyar Terganjal Masuk DPT                                               https://www.nusabali.com/berita/144974/ubah-nama-bacaleg-dari-gianyar-terganjal-masuk-dpt\n",
            "19    26 June 2023 09:56:00                            Perebutkan 2.805 Kuota, PPDB SMP Jalur Zonasi Umum di Denpasar Dimulai                             https://www.nusabali.com/berita/144731/perebutkan-2805-kuota-ppdb-smp-jalur-zonasi-umum-di-denpasar-dimulai\n",
            "20    25 June 2023 07:52:14                                                            Subak: Sebagai Ruang Fisikal dan Moral                                                            https://www.nusabali.com/berita/144657/subak-sebagai-ruang-fisikal-dan-moral\n",
            "21    24 June 2023 12:19:41                            Denpasar Borong Juara I Lomba Desa dan Kelurahan Tingkat Provinsi Bali                           https://www.nusabali.com/berita/144604/denpasar-borong-juara-i-lomba-desa-dan-kelurahan-tingkat-provinsi-bali\n",
            "22    24 June 2023 10:57:00                                                                   3 Akta Bisa Diakses Dalam 3 Jam                                                                  https://www.nusabali.com/berita/144614/3-akta-bisa-diakses-dalam-3-jam\n",
            "23    23 June 2023 17:14:27                                                    Buleleng Segera Wujudkan Masterplan Smart City                                                   https://www.nusabali.com/berita/144566/buleleng-segera-wujudkan-masterplan-smart-city\n",
            "24    22 June 2023 16:08:09                                                                  DPT Buleleng Tembus 611.901 Jiwa                                                                  https://www.nusabali.com/berita/144462/dpt-buleleng-tembus-611901-jiwa\n",
            "25    21 June 2023 07:12:57                                        DJP Bali Blokir 91 Rekening Wajib Pajak, Tunggakan Rp 71 M                                        https://www.nusabali.com/berita/144336/djp-bali-blokir-91-rekening-wajib-pajak-tunggakan-rp-71-m\n",
            "26    20 June 2023 09:22:57                                                              Kantor Perbekel Bukti Mulai Dibangun                                                             https://www.nusabali.com/berita/144294/kantor-perbekel-bukti-mulai-dibangun\n",
            "27    15 June 2023 15:40:21                                                            Mantan Kadis Perkim Denpasar Berpulang                                                           https://www.nusabali.com/berita/143957/mantan-kadis-perkim-denpasar-berpulang\n",
            "28    15 June 2023 13:45:48                                          51 Desa di Bangli Berstatus Kampung Keluarga Berkualitas                                         https://www.nusabali.com/berita/143944/51-desa-di-bangli-berstatus-kampung-keluarga-berkualitas\n",
            "29    14 June 2023 17:35:54                                                   Agus Dwi dan Putri Lestari Duta Genre Bali 2023                                                  https://www.nusabali.com/berita/143835/agus-dwi-dan-putri-lestari-duta-genre-bali-2023\n",
            "30    14 June 2023 07:09:22                                                          Puluhan Rumah di Dusun Wanasari Terbakar                                                         https://www.nusabali.com/berita/143816/puluhan-rumah-di-dusun-wanasari-terbakar\n",
            "31    13 June 2023 17:26:30                                                        6 Bulan, 261 Akta Cerai Terbit di Buleleng                                                        https://www.nusabali.com/berita/143802/6-bulan-261-akta-cerai-terbit-di-buleleng\n",
            "32    10 June 2023 12:34:45                                                    Pemkab Nganjuk Lirik Program Unggulan Jembrana                                                   https://www.nusabali.com/berita/143595/pemkab-nganjuk-lirik-program-unggulan-jembrana\n",
            "33    08 June 2023 09:45:40                                                              Perkawinan Anak di Jembrana Melonjak                                                             https://www.nusabali.com/berita/143433/perkawinan-anak-di-jembrana-melonjak\n",
            "34    07 June 2023 15:43:01                                                                   Pindah Domisili Siswa Jadi Tren                                                                  https://www.nusabali.com/berita/143350/pindah-domisili-siswa-jadi-tren\n",
            "35    06 June 2023 07:57:01                                                   Cegah WNA Bikin Onar, Tabanan Bentuk Satgas WNA                                                   https://www.nusabali.com/berita/143257/cegah-wna-bikin-onar-tabanan-bentuk-satgas-wna\n",
            "36    02 June 2023 17:16:05                                     Kelurahan Padangsambian Gelar Pendataan Penduduk Non Permanen                                    https://www.nusabali.com/berita/143003/kelurahan-padangsambian-gelar-pendataan-penduduk-non-permanen\n",
            "37     31 May 2023 14:26:50                                          Bupati Suwirta Diverifikasi Sekretariat Militer Presiden                                         https://www.nusabali.com/berita/142931/bupati-suwirta-diverifikasi-sekretariat-militer-presiden\n",
            "38     31 May 2023 14:22:29                                                            Lima Terdakwa Kasus KTP Aspal Disidang                                                           https://www.nusabali.com/berita/142916/lima-terdakwa-kasus-ktp-aspal-disidang\n",
            "39     31 May 2023 11:06:16                                                     Lembaga Jasa Keuangan Wajib Jaga Data Nasabah                                                    https://www.nusabali.com/berita/142940/lembaga-jasa-keuangan-wajib-jaga-data-nasabah\n",
            "40     30 May 2023 09:26:51                                                              Camat 3 Besar Melamar di Kadis BRIDA                                                             https://www.nusabali.com/berita/142827/camat-3-besar-melamar-di-kadis-brida\n",
            "41     25 May 2023 15:02:16                     Caleg Wajib Lapor LHKPN, Tidak Melapor, Tidak Dilantik Walaupun Menang Pemilu                      https://www.nusabali.com/berita/142523/caleg-wajib-lapor-lhkpn-tidak-melapor-tidak-dilantik-walaupun-menang-pemilu\n",
            "42     25 May 2023 14:04:56                                                           Kesbangpol Sisir WNA di Desa Sanur Kauh                                                          https://www.nusabali.com/berita/142471/kesbangpol-sisir-wna-di-desa-sanur-kauh\n",
            "43     25 May 2023 10:58:04                                                         Aktivasi Identitas Digital Belum Maksimal                                                        https://www.nusabali.com/berita/142495/aktivasi-identitas-digital-belum-maksimal\n",
            "44     24 May 2023 08:23:59                 Seleksi Lelang 4 Kadis di Pemkab Tabanan, Masuk Tahap Akhir, Target Juni Dilantik                  https://www.nusabali.com/berita/142405/seleksi-lelang-4-kadis-di-pemkab-tabanan-masuk-tahap-akhir-target-juni-dilantik\n",
            "45     24 May 2023 07:47:35                                               Lansia Nomaden Kesulitan Dapatkan Layanan Kesehatan                                              https://www.nusabali.com/berita/142402/lansia-nomaden-kesulitan-dapatkan-layanan-kesehatan\n",
            "46     23 May 2023 22:38:38     Desa Dalung Kedatangan Tim Verifikasi Nasional Kampung KB, Perbekel: Kami Siap Menerima Piala      https://www.nusabali.com/berita/142376/desa-dalung-kedatangan-tim-verifikasi-nasional-kampung-kb-perbekel-kami-siap-menerima-piala\n",
            "47     22 May 2023 08:55:20                                                              Duda Timur Masuk Jejaring Desa ASEAN                                                             https://www.nusabali.com/berita/142236/duda-timur-masuk-jejaring-desa-asean\n",
            "48     22 May 2023 07:14:00                                                                  Salam Metal Dua Periode Menggema                                                                 https://www.nusabali.com/berita/142227/salam-metal-dua-periode-menggema\n",
            "49     20 May 2023 17:23:22                                            Bawaslu Gianyar Gandeng Insan Pers ‘Kawal’ Pemilu 2024                                             https://www.nusabali.com/berita/142181/bawaslu-gianyar-gandeng-insan-pers-kawal-pemilu-2024\n",
            "50     19 May 2023 14:32:09                                                     Sesetan Gelar Pendataan Penduduk Non Permanen                                                    https://www.nusabali.com/berita/142047/sesetan-gelar-pendataan-penduduk-non-permanen\n",
            "51     17 May 2023 07:03:41                                                 Heboh, Bacaleg di Tabanan Terdata Sudah Meninggal                                                 https://www.nusabali.com/berita/141949/heboh-bacaleg-di-tabanan-terdata-sudah-meninggal\n",
            "52     16 May 2023 10:37:54                                            Forkopimda Kota Padang Panjang Belajar Adat ke Gianyar                                           https://www.nusabali.com/berita/141906/forkopimda-kota-padang-panjang-belajar-adat-ke-gianyar\n",
            "53     15 May 2023 10:23:08                                                       Satpol PP Gianyar Tertibkan Puluhan Duktang                                                      https://www.nusabali.com/berita/141810/satpol-pp-gianyar-tertibkan-puluhan-duktang\n",
            "54     13 May 2023 15:20:18                                                                    Duktang Dauh Peken Diobok-obok                                                                   https://www.nusabali.com/berita/141693/duktang-dauh-peken-diobok-obok\n",
            "55     13 May 2023 13:48:01                                                             Tim Sidak Temukan 27 Warga Tanpa SKTS                                                            https://www.nusabali.com/berita/141696/tim-sidak-temukan-27-warga-tanpa-skts\n",
            "56     12 May 2023 21:11:32               Emban Jabatan Lurah Kuta, Putu Dedik Lanjutkan Program dan Siap Melayani Masyarakat               https://www.nusabali.com/berita/141643/emban-jabatan-lurah-kuta-putu-dedik-lanjutkan-program-dan-siap-melayani-masyarakat\n",
            "57     12 May 2023 10:39:33                                                           Empat Camat Berebut Kursi Kadis Tabanan                                                          https://www.nusabali.com/berita/141606/empat-camat-berebut-kursi-kadis-tabanan\n",
            "58     12 May 2023 09:33:38                                                 Pencatatan Dokumen Kependudukan Kejar Pemilu 2024                                                https://www.nusabali.com/berita/141588/pencatatan-dokumen-kependudukan-kejar-pemilu-2024\n",
            "59     12 May 2023 09:28:05                                                          Lima Tersangka Kasus KTP WNA Dilimpahkan                                                         https://www.nusabali.com/berita/141594/lima-tersangka-kasus-ktp-wna-dilimpahkan\n",
            "60     11 May 2023 07:35:38                                              Cakupan Kepesertaan BPJS Kesehatan di Gianyar 97,04%                                               https://www.nusabali.com/berita/141521/cakupan-kepesertaan-bpjs-kesehatan-di-gianyar-9704\n",
            "61     10 May 2023 13:30:37                                               Personel Polsek Denbar Diturunkan Tertibkan Duktang                                              https://www.nusabali.com/berita/141432/personel-polsek-denbar-diturunkan-tertibkan-duktang\n",
            "62     10 May 2023 11:33:10                    Sidak Gabungan di Wilayah Kecamatan Kuta Selatan, 363 Orang Tak Kantongi SKPNP                    https://www.nusabali.com/berita/141417/sidak-gabungan-di-wilayah-kecamatan-kuta-selatan-363-orang-tak-kantongi-skpnp\n",
            "63     10 May 2023 11:02:46                                                       Satpol PP Klungkung Gencarkan Sidak Duktang                                                      https://www.nusabali.com/berita/141442/satpol-pp-klungkung-gencarkan-sidak-duktang\n",
            "64     09 May 2023 07:46:56                                                        38 Penumpang Kapal Awu Diperiksa Identitas                                                       https://www.nusabali.com/berita/141342/38-penumpang-kapal-awu-diperiksa-identitas\n",
            "65     08 May 2023 13:48:16                   Tinjau Sosialisasi JKN Goes to Banjar, Walikota Pastikan Semua Warga Ikut Aktif                   https://www.nusabali.com/berita/141261/tinjau-sosialisasi-jkn-goes-to-banjar-walikota-pastikan-semua-warga-ikut-aktif\n",
            "66     05 May 2023 14:51:35                                                          Penduduk Luar Badung Wajib Tunjukkan KTP                                                         https://www.nusabali.com/berita/141050/penduduk-luar-badung-wajib-tunjukkan-ktp\n",
            "67     05 May 2023 09:44:46                                             Disdukcapil Kota Denpasar Jadwalkan 3 Kali Razia KTP                                              https://www.nusabali.com/berita/141052/disdukcapil-kota-denpasar-jadwalkan-3-kali-razia-ktp\n",
            "68     04 May 2023 07:55:17                                                     Perekaman e-KTP di Denpasar Sudah 97,9 Persen                                                     https://www.nusabali.com/berita/140975/perekaman-e-ktp-di-denpasar-sudah-979-persen\n",
            "69     04 May 2023 07:35:49                                          Buleleng Kejar Penerbitan Akta Perkawinan dan Perceraian                                         https://www.nusabali.com/berita/140982/buleleng-kejar-penerbitan-akta-perkawinan-dan-perceraian\n",
            "70     03 May 2023 13:01:07                                           Satpol PP Perketat Pengawasan Penduduk dari Luar Badung                                          https://www.nusabali.com/berita/140894/satpol-pp-perketat-pengawasan-penduduk-dari-luar-badung\n",
            "71     02 May 2023 09:53:13                                      Denpasar Antisipasi Arus Balik hingga Tingkat Desa–Kelurahan                                     https://www.nusabali.com/berita/140826/denpasar-antisipasi-arus-balik-hingga-tingkat-desa-kelurahan\n",
            "72     01 May 2023 13:35:21                         Kantong Kresek Hitam Berisi Orok dan Kartu Keluarga Gegerkan Warga Canggu                        https://www.nusabali.com/berita/140801/kantong-kresek-hitam-berisi-orok-dan-kartu-keluarga-gegerkan-warga-canggu\n",
            "73   26 April 2023 11:32:10                                             Cuti Bersama, Disdukcapil Jembrana Buka Setengah Hari                                             https://www.nusabali.com/berita/140477/cuti-bersama-disdukcapil-jembrana-buka-setengah-hari\n",
            "74   26 April 2023 10:23:52                                                           Pelayanan Publik Dibuka Normal Hari Ini                                                          https://www.nusabali.com/berita/140451/pelayanan-publik-dibuka-normal-hari-ini\n",
            "75   26 April 2023 10:04:35                                           Antisipasi Duktang, Satpol PP Gianyar Siagakan Personel                                           https://www.nusabali.com/berita/140468/antisipasi-duktang-satpol-pp-gianyar-siagakan-personel\n",
            "76   26 April 2023 08:37:58                                                              Sebanyak 473 WNA Miliki KTP Denpasar                                                             https://www.nusabali.com/berita/140452/sebanyak-473-wna-miliki-ktp-denpasar\n",
            "77   26 April 2023 07:02:59                                                     Pemeriksaan Identitas Diperketat di Gilimanuk                                                    https://www.nusabali.com/berita/140446/pemeriksaan-identitas-diperketat-di-gilimanuk\n",
            "78   25 April 2023 11:25:40                                                Sidak Arus Balik, Disdukcapil ‘Nyanggong’ di Benoa                                                  https://www.nusabali.com/berita/140377/sidak-arus-balik-disdukcapil-nyanggong-di-benoa\n",
            "79   25 April 2023 09:35:15                                         Musim Libur, Disdukcapil Tetap Layani Permohonan Kartu KK                                         https://www.nusabali.com/berita/140398/musim-libur-disdukcapil-tetap-layani-permohonan-kartu-kk\n",
            "80   24 April 2023 20:10:58                                 Puncak Arus Balik Lebaran via Terminal Mengwi Diprediksi 25 April                                https://www.nusabali.com/berita/140364/puncak-arus-balik-lebaran-via-terminal-mengwi-diprediksi-25-april\n",
            "81   21 April 2023 08:58:46                                   Terkendala Aplikasi Gadget, Aktivasi IKD Baru Capai 2,84 Persen                                    https://www.nusabali.com/berita/140269/terkendala-aplikasi-gadget-aktivasi-ikd-baru-capai-284-persen\n",
            "82   21 April 2023 08:48:15  Kepala Bappeda Buleleng, Putu Ayu Reika Nurhaeni, Empat Tahun Jadi Camat di Daerah Rawan Konflik   https://www.nusabali.com/berita/140276/kepala-bappeda-buleleng-putu-ayu-reika-nurhaeni-empat-tahun-jadi-camat-di-daerah-rawan-konflik\n",
            "83   20 April 2023 10:54:23                                                     Cuti Lebaran, Disdukcapil Buka Layanan Urgent                                                     https://www.nusabali.com/berita/140187/cuti-lebaran-disdukcapil-buka-layanan-urgent\n",
            "84   20 April 2023 10:22:19                                       Sekda Alit Wiradana Sidak Pelayanan Publik di GSD Lumintang                                      https://www.nusabali.com/berita/140182/sekda-alit-wiradana-sidak-pelayanan-publik-di-gsd-lumintang\n",
            "85   19 April 2023 09:28:22                                                    Lebaran, Layanan Publik Disdukcapil Tetap Buka                                                    https://www.nusabali.com/berita/140102/lebaran-layanan-publik-disdukcapil-tetap-buka\n",
            "86   15 April 2023 07:30:03                                                                          DPS Bali Tembus 3,2 Juta                                                                          https://www.nusabali.com/berita/139826/dps-bali-tembus-32-juta\n",
            "87   14 April 2023 10:37:26                                                           1.385 WNA Miliki KTP-el Domisili Badung                                                           https://www.nusabali.com/berita/139784/1385-wna-miliki-ktp-el-domisili-badung\n",
            "88   12 April 2023 13:32:46                                                        Subsidi Tingkatkan Penjualan Motor Listrik                                                       https://www.nusabali.com/berita/139641/subsidi-tingkatkan-penjualan-motor-listrik\n",
            "89   08 April 2023 17:48:10                                                                     UU Provinsi Bali 'Rasa Otsus'                                                                      https://www.nusabali.com/berita/139405/uu-provinsi-bali-rasa-otsus\n",
            "90   06 April 2023 10:22:04                                              Satpol PP Siagakan Personel Bantu Pengamanan Lebaran                                             https://www.nusabali.com/berita/139268/satpol-pp-siagakan-personel-bantu-pengamanan-lebaran\n",
            "91   04 April 2023 08:16:23                                                         Hiburan Malam di Gilimanuk Resahkan Warga                                                        https://www.nusabali.com/berita/139082/hiburan-malam-di-gilimanuk-resahkan-warga\n",
            "92   01 April 2023 09:44:27                                               Bule Ukraina Pemilik KTP Palsu Dijebloskan ke Lapas                                              https://www.nusabali.com/berita/138884/bule-ukraina-pemilik-ktp-palsu-dijebloskan-ke-lapas\n",
            "93   01 April 2023 09:00:10                          Temuan Anggota TNI/Polri Masuk Daftar Pemilih, KPU RI Minta Data Detail                             https://www.nusabali.com/berita/138905/temuan-anggota-tnipolri-masuk-daftar-pemilih-kpu-ri-minta-data-detail\n",
            "94   30 March 2023 11:41:27                                             Bangli Peringkat 6 Nasional  Standar Pelayanan Publik                                             https://www.nusabali.com/berita/138750/bangli-peringkat-6-nasional-standar-pelayanan-publik\n",
            "95   27 March 2023 11:37:25                                                               Disdukcapil Keluarkan 30 Kawi Smara                                                              https://www.nusabali.com/berita/138514/disdukcapil-keluarkan-30-kawi-smara\n",
            "96   24 March 2023 09:58:46                                                   KMP Labitra Safinaf Sandar Pertama di Gilimanuk                                                  https://www.nusabali.com/berita/138308/kmp-labitra-safinaf-sandar-pertama-di-gilimanuk\n",
            "97   21 March 2023 07:20:08                Kasus WNA Punya KTP di Bali, Ombudsman Sebut Ada Pelanggaran Prosedur Administrasi                https://www.nusabali.com/berita/138178/kasus-wna-punya-ktp-di-bali-ombudsman-sebut-ada-pelanggaran-prosedur-administrasi\n",
            "98   20 March 2023 18:55:13      Kasus WNA Punya KTP, Ombudsman Bali: Pemalsuan Dilakukan Terpola Memanfaatkan Celah Adminduk       https://www.nusabali.com/berita/138171/kasus-wna-punya-ktp-ombudsman-bali-pemalsuan-dilakukan-terpola-memanfaatkan-celah-adminduk\n",
            "99   17 March 2023 11:23:34                                                           KTP Digital Mulai Sasar Masyarakat Umum                                                          https://www.nusabali.com/berita/137939/ktp-digital-mulai-sasar-masyarakat-umum\n",
            "100  17 March 2023 07:10:55                                                Dugaan Pemalsuan Dokumen KTP, WNA Suriah Tersangka                                                https://www.nusabali.com/berita/137902/dugaan-pemalsuan-dokumen-ktp-wna-suriah-tersangka\n",
            "101  16 March 2023 09:52:18                                                         624 WNA Kantongi ITAP dan ITAS di Tabanan                                                        https://www.nusabali.com/berita/137850/624-wna-kantongi-itap-dan-itas-di-tabanan\n",
            "102  16 March 2023 07:03:32                                                             Kasus KTP WNA, 5 Orang Jadi Tersangka                                                             https://www.nusabali.com/berita/137819/kasus-ktp-wna-5-orang-jadi-tersangka\n",
            "103  14 March 2023 10:53:46                                                               Disdukcapil Awasi Ketat Dokumen WNA                                                              https://www.nusabali.com/berita/137699/disdukcapil-awasi-ketat-dokumen-wna\n",
            "104  14 March 2023 10:05:10                                                            Kadis Kominfo Jembrana Akhirnya Terisi                                                           https://www.nusabali.com/berita/137688/kadis-kominfo-jembrana-akhirnya-terisi\n",
            "105  14 March 2023 08:02:46                                                            Dukcapil Perketat Permohonan e-KTP WNA                                                           https://www.nusabali.com/berita/137670/dukcapil-perketat-permohonan-e-ktp-wna\n",
            "106  14 March 2023 07:08:44             Dua WNA Kantongi e-KTP Denpasar, Jaya Negara Ngaku Sudah Tindak Pegawai yang Terlibat             https://www.nusabali.com/berita/137658/dua-wna-kantongi-e-ktp-denpasar-jaya-negara-ngaku-sudah-tindak-pegawai-yang-terlibat\n",
            "107  13 March 2023 12:05:20                                                Bank BPD Bali Terima Sertifikat ISO/IEC 27001:2013                                                 https://www.nusabali.com/berita/137623/bank-bpd-bali-terima-sertifikat-isoiec-270012013\n",
            "108  13 March 2023 08:28:01                                                         Disdukcapil Antisipasi Permohonan KTP WNA                                                        https://www.nusabali.com/berita/137603/disdukcapil-antisipasi-permohonan-ktp-wna\n",
            "109  13 March 2023 07:08:35                                              Tak Punya Akta Kelahiran, Kini Difasilitasi Perbekel                                              https://www.nusabali.com/berita/137576/tak-punya-akta-kelahiran-kini-difasilitasi-perbekel\n",
            "110  11 March 2023 10:55:37                    Terkait WNA Ber–KTP Denpasar, Disdukcapil Sebut Ada Indikasi Pemalsuan Dokumen                    https://www.nusabali.com/berita/137472/terkait-wna-ber-ktp-denpasar-disdukcapil-sebut-ada-indikasi-pemalsuan-dokumen\n",
            "111  11 March 2023 10:54:55                                   Denpasar Jadi Kota Pertama di RI Raih Anugerah Prakarsa Inklusi                                  https://www.nusabali.com/berita/137471/denpasar-jadi-kota-pertama-di-ri-raih-anugerah-prakarsa-inklusi\n",
            "112  11 March 2023 10:17:07                                                                  Aset Pemegang JKN PBI Terdeteksi                                                                 https://www.nusabali.com/berita/137465/aset-pemegang-jkn-pbi-terdeteksi\n",
            "113  10 March 2023 15:03:11                                                           Bawaslu Gianyar Patroli Kawal Hak Pilih                                                          https://www.nusabali.com/berita/137429/bawaslu-gianyar-patroli-kawal-hak-pilih\n",
            "114  10 March 2023 11:07:43                                           Ditemukan Petugas Coklit, Masih Ada Warga Belum Ber-KTP                                           https://www.nusabali.com/berita/137392/ditemukan-petugas-coklit-masih-ada-warga-belum-ber-ktp\n",
            "115  09 March 2023 08:17:24                                             Lagi Bulan Madu, Pria asal Suriah Ditangkap Imigrasi                                               https://www.nusabali.com/berita/137285/lagi-bulan-madu-pria-asal-suriah-ditangkap-imigrasi\n",
            "116  08 March 2023 14:43:10                                    Aktivasi IKD di Denpasar Mulai  Sasar Mahasiswa dan Dosen Unud                                    https://www.nusabali.com/berita/137267/aktivasi-ikd-di-denpasar-mulai-sasar-mahasiswa-dan-dosen-unud\n",
            "117  08 March 2023 08:48:54                                                                     Petugas Coklit Digigit Anjing                                                                    https://www.nusabali.com/berita/137212/petugas-coklit-digigit-anjing\n",
            "118  06 March 2023 10:56:02                                                       Daftar Pemilih Selalu Jadi Problem Berulang                                                      https://www.nusabali.com/berita/137083/daftar-pemilih-selalu-jadi-problem-berulang\n",
            "119  06 March 2023 08:13:57                                                           Diskominfo Santi Rancang Aplikasi Besar                                                          https://www.nusabali.com/berita/137042/diskominfo-santi-rancang-aplikasi-besar\n",
            "Menyimpan ke file artikel_kependudukan_01082023075117.xlsx...\n",
            "Berhasil!!!\n"
          ]
        }
      ]
    }
  ]
}