{
  "nbformat": 4,
  "nbformat_minor": 0,
  "metadata": {
    "colab": {
      "provenance": [],
      "mount_file_id": "1fI4ymq-r4Cz7hHcd5TQo5w9TbkYCs4jo",
      "authorship_tag": "ABX9TyOf1DvgV7urXEFumQQRJVwF",
      "include_colab_link": true
    },
    "kernelspec": {
      "name": "python3",
      "display_name": "Python 3"
    },
    "language_info": {
      "name": "python"
    }
  },
  "cells": [
    {
      "cell_type": "markdown",
      "metadata": {
        "id": "view-in-github",
        "colab_type": "text"
      },
      "source": [
        "<a href=\"https://colab.research.google.com/github/Noertri/scraper-nusabali/blob/main/scraper_nusabali.ipynb\" target=\"_parent\"><img src=\"https://colab.research.google.com/assets/colab-badge.svg\" alt=\"Open In Colab\"/></a>"
      ]
    },
    {
      "cell_type": "markdown",
      "source": [
        "# Menginstall package\n",
        "\n",
        "1. upload file requirements.txt\n",
        "2. jalankan sel dibawah ini"
      ],
      "metadata": {
        "id": "JgrOEsm5Dpb5"
      }
    },
    {
      "cell_type": "code",
      "source": [
        "!pip install --upgrade -r requirements.txt"
      ],
      "metadata": {
        "id": "HC5UJfezHGke"
      },
      "execution_count": null,
      "outputs": []
    },
    {
      "cell_type": "markdown",
      "source": [
        "# Program"
      ],
      "metadata": {
        "id": "IZ_9Tvg3EYRq"
      }
    },
    {
      "cell_type": "code",
      "source": [
        "import httpx\n",
        "from bs4 import BeautifulSoup\n",
        "from dataclasses import dataclass, asdict\n",
        "import pandas as pd\n",
        "from urllib import parse\n",
        "import dateparser\n",
        "from datetime import datetime\n",
        "\n",
        "\n",
        "client = httpx.Client(follow_redirects=True, timeout=5.)\n",
        "main_url = \"https://www.nusabali.com\"\n",
        "results = []\n",
        "\n",
        "\n",
        "@dataclass\n",
        "class Result:\n",
        "    tanggal: str = \"\"\n",
        "    judul: str = \"\"\n",
        "    url: str = \"\"\n",
        "\n",
        "\n",
        "def request_main_page(keyword):\n",
        "    page_url = parse.urljoin(main_url, \"search\")\n",
        "\n",
        "    params = {\n",
        "        'keyword': f'{keyword}',\n",
        "    }\n",
        "\n",
        "    query_str = parse.urlencode(params)\n",
        "\n",
        "    referer_url = parse.urlunsplit((\"https\", \"www.nusabali.com\", \"search\", query_str, \"\"))\n",
        "\n",
        "    headers = {\n",
        "        'authority': 'www.nusabali.com',\n",
        "        'accept': 'text/html,application/xhtml+xml,application/xml;q=0.9,image/avif,image/webp,image/apng,*/*;q=0.8,application/signed-exchange;v=b3;q=0.7',\n",
        "        'accept-language': 'id-ID,id;q=0.9,en-US;q=0.8,en;q=0.7,ms;q=0.6,ja;q=0.5',\n",
        "        'dnt': '1',\n",
        "        'referer': f'{referer_url}',\n",
        "        'sec-ch-ua': '\"Not/A)Brand\";v=\"99\", \"Google Chrome\";v=\"115\", \"Chromium\";v=\"115\"',\n",
        "        'sec-ch-ua-mobile': '?0',\n",
        "        'sec-ch-ua-platform': '\"Windows\"',\n",
        "        'sec-fetch-dest': 'document',\n",
        "        'sec-fetch-mode': 'navigate',\n",
        "        'sec-fetch-site': 'same-origin',\n",
        "        'sec-fetch-user': '?1',\n",
        "        'upgrade-insecure-requests': '1',\n",
        "        'user-agent': 'Mozilla/5.0 (Windows NT 10.0; Win64; x64) AppleWebKit/537.36 (KHTML, like Gecko) Chrome/115.0.0.0 Safari/537.36',\n",
        "    }\n",
        "\n",
        "\n",
        "    response = client.get(page_url, params=params, headers=headers)\n",
        "\n",
        "    if response.status_code < 400:\n",
        "        return response\n",
        "\n",
        "\n",
        "# scrape halaman awal\n",
        "r = request_main_page(keyword=\"bali\")\n",
        "soup = BeautifulSoup(r.text, \"html.parser\")\n",
        "article_list = soup.select(\"div#article-list>div.row\")\n",
        "if article_list:\n",
        "    for article in article_list:\n",
        "        h5_tag = article.select_one(\"div.col-xs-8.col-md-8 h5\")\n",
        "        span_tag = article.select_one(\"div.col-xs-12.entry-metas>span>span\")\n",
        "        article_title = h5_tag.get_text(strip=True, separator=\" \") if h5_tag is not None else \"\"\n",
        "        article_url = a_tag.get(\"href\", \"\") if (a_tag := h5_tag.select_one(\"a\")) is not None else \"\"\n",
        "        article_date = span_tag.get_text(strip=True, separator=\" \") if span_tag is not None else \"\"\n",
        "        article_date = datetime.strptime(article_date, \"%d %b %Y %H:%M\")\n",
        "\n",
        "        result = Result(tanggal=article_date.strftime(\"%d %B %Y %H:%M\"), judul=article_title, url=article_url)\n",
        "        results.append(asdict(result))\n",
        "\n"
      ],
      "metadata": {
        "id": "N5b3E_DiEXYb"
      },
      "execution_count": 3,
      "outputs": []
    },
    {
      "cell_type": "markdown",
      "source": [
        "# Menyimpan hasil ke file excel"
      ],
      "metadata": {
        "id": "6P-VKmR7PtQ1"
      }
    },
    {
      "cell_type": "code",
      "source": [
        "def save_to_excel(prefix):\n",
        "    filename = \"{0}_{1}.xlsx\".format(prefix, datetime.now().strftime(\"%d%m%Y%H%M%S\"))\n",
        "\n",
        "    df = pd.DataFrame(results)\n",
        "\n",
        "    print(f\"Menyimpan ke file {filename}...\")\n",
        "\n",
        "    try:\n",
        "        df.to_excel(filename, index=False)\n",
        "        print(\"Berhasil!!!\")\n",
        "    except Exception as err:\n",
        "        print(err)\n",
        "\n",
        "save_to_excel(\"artikel_kependudukan\")"
      ],
      "metadata": {
        "colab": {
          "base_uri": "https://localhost:8080/"
        },
        "id": "QaSrQhtqKYA_",
        "outputId": "9867b25d-b7ff-4cae-a64e-0ac741597736"
      },
      "execution_count": 19,
      "outputs": [
        {
          "output_type": "stream",
          "name": "stdout",
          "text": [
            "Menyimpan ke file artikel_kependudukan_01082023040210.xlsx...\n",
            "Berhasil!!!\n"
          ]
        }
      ]
    }
  ]
}