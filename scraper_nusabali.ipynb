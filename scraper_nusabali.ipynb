{
  "nbformat": 4,
  "nbformat_minor": 0,
  "metadata": {
    "colab": {
      "provenance": [],
      "mount_file_id": "https://github.com/Noertri/scraper-nusabali/blob/main/scraper_nusabali.ipynb",
      "authorship_tag": "ABX9TyMOjMV17pPazxpeFf9mgCEC",
      "include_colab_link": true
    },
    "kernelspec": {
      "name": "python3",
      "display_name": "Python 3"
    },
    "language_info": {
      "name": "python"
    }
  },
  "cells": [
    {
      "cell_type": "markdown",
      "metadata": {
        "id": "view-in-github",
        "colab_type": "text"
      },
      "source": [
        "<a href=\"https://colab.research.google.com/github/Noertri/scraper-nusabali/blob/main/scraper_nusabali.ipynb\" target=\"_parent\"><img src=\"https://colab.research.google.com/assets/colab-badge.svg\" alt=\"Open In Colab\"/></a>"
      ]
    },
    {
      "cell_type": "markdown",
      "source": [
        "# Menginstall package yang diperlukan"
      ],
      "metadata": {
        "id": "QEjTpuFHBNdM"
      }
    },
    {
      "cell_type": "code",
      "source": [
        "!pip install --upgrade -r requirements.txt"
      ],
      "metadata": {
        "id": "TLHpG-5o5W4E"
      },
      "execution_count": null,
      "outputs": []
    },
    {
      "cell_type": "code",
      "source": [
        "!pip list"
      ],
      "metadata": {
        "id": "uXOYxvWaAlmT"
      },
      "execution_count": null,
      "outputs": []
    }
  ]
}